{
 "cells": [
  {
   "cell_type": "markdown",
   "metadata": {},
   "source": [
    "### Overview"
   ]
  },
  {
   "cell_type": "markdown",
   "metadata": {},
   "source": [
    "The goal of this game is to collect presents in the basket while avoiding rocks. The player uses the left and right arrow keys to move the basket. The score is counted as the the number of presents collected, and the game ends as soon as the first rock is touched. Once the player loses, they have the option to play again or to quit the game. If the player decides to play again, the high score among all games played is recorded until the player quits the game."
   ]
  },
  {
   "cell_type": "markdown",
   "metadata": {},
   "source": [
    "### Attributions"
   ]
  },
  {
   "cell_type": "markdown",
   "metadata": {},
   "source": [
    "The code for this game was written using the tutorial code at https://pythonprogramming.net/adding-sounds-music-pygame/ as a template. A number of modifications were made due to a change in the objective of the game, as well as refactoring existing code for improving functionality and readability.\n",
    "\n",
    "A general summary of the changes made is shown below:\n",
    "- Change in game objectives\n",
    "    <br>\n",
    "    &emsp; The original goal of the game was only to avoid obstacles. My version requires the player to both avoid an obstacle (rocks) and also collect an object (presents). The score count dispalyed at the top of the screen was therefore changed from \"Obstacles Avoided\" to \"Presents Collected\" and code to calculate the score was changed accordingly. I also included code to end the game as soon as a rock is collected.\n",
    "  \n",
    "- Addition of classes to make code object oriented\n",
    "    <br>\n",
    "    &emsp; The original code did not make use of classes and objects. I introduced the class ScreenObjects with subclasses Rock, Present, Player, and Button in order to reduce the number of variables required and simplify the code. Therefore, a majority of the code was modified in order to make use of the objects.\n",
    "   \n",
    "- Creation of custom icons for player, rock, and obstacle\n",
    "    <br>\n",
    "    &emsp; The original code used a car icon for the player and used the pygame.draw.rect() function to draw blocks as obstacles. I created and used my own icon for the player and also introduced icons for the rocks and presents.\n",
    "\n",
    "- Inclusion of high score\n",
    "    <br>\n",
    "    &emsp; I included code to calculate the high score and keep track of it through multiple games. \n",
    "    \n",
    "- General reorganization of code\n",
    "    <br>\n",
    "    &emsp; I created new functions for reoccurring code, removed some unused variables, changed variable names to more relevant values, added comments and documentation\n",
    "\n",
    "Due to the overarching nature of some of the changes, even functions which were largely based on original code have quite a few custom modifications, either in order to incorporate the objects, to accomodate for the new game objectives, or to make use of new variables and functions. However, functions where the overall idea of the code has not been modified have attribution to the orignial source included in the documentation."
   ]
  },
  {
   "cell_type": "markdown",
   "metadata": {},
   "source": [
    "### General Notes and Requirements"
   ]
  },
  {
   "cell_type": "markdown",
   "metadata": {},
   "source": [
    "The program has certain requirements in order to run properly, which are outlined in the requirements.txt file. It works best when the game_script.py file is run from the command line using the command python game_script.py"
   ]
  },
  {
   "cell_type": "code",
   "execution_count": null,
   "metadata": {
    "collapsed": true
   },
   "outputs": [],
   "source": []
  }
 ],
 "metadata": {
  "kernelspec": {
   "display_name": "Python 3",
   "language": "python",
   "name": "python3"
  },
  "language_info": {
   "codemirror_mode": {
    "name": "ipython",
    "version": 3
   },
   "file_extension": ".py",
   "mimetype": "text/x-python",
   "name": "python",
   "nbconvert_exporter": "python",
   "pygments_lexer": "ipython3",
   "version": "3.6.2"
  }
 },
 "nbformat": 4,
 "nbformat_minor": 2
}
